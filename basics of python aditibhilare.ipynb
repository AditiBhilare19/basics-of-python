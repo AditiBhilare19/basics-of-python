{
  "nbformat": 4,
  "nbformat_minor": 0,
  "metadata": {
    "colab": {
      "name": "Untitled0.ipynb",
      "provenance": [],
      "collapsed_sections": []
    },
    "kernelspec": {
      "name": "python3",
      "display_name": "Python 3"
    },
    "language_info": {
      "name": "python"
    }
  },
  "cells": [
    {
      "cell_type": "code",
      "execution_count": 3,
      "metadata": {
        "id": "kNFjd9NHKymL"
      },
      "outputs": [],
      "source": [
        "Name=\"Aditi\"\n",
        "Department='statistics'\n",
        "github_id='AditiBhilare19'"
      ]
    },
    {
      "cell_type": "code",
      "source": [
        "b=3\n",
        "c=\"3\"\n",
        "#3 is Number \n",
        "#\"3\"is string"
      ],
      "metadata": {
        "id": "Yh4Q4hT5L4Kw"
      },
      "execution_count": 4,
      "outputs": []
    },
    {
      "cell_type": "code",
      "source": [
        "#to declare the variable \n",
        "#Variable can only be start from A-Z,a-z,_\n",
        "# we cann't use keywords in python as a Variable \n",
        "#As Python is case sensative laungauge A and a is diff variable\n",
        "A_=1\n",
        "a_=2\n",
        "a=3\n",
        "a=4"
      ],
      "metadata": {
        "id": "3fGFarG2MW3B"
      },
      "execution_count": 8,
      "outputs": []
    },
    {
      "cell_type": "code",
      "source": [
        "#python as a calculator \n",
        "x,y=10,5\n",
        "print(\"Addition=\",x+y)\n",
        "print(\"SUbtraction=\",x-y)\n",
        "print(\"Multiplication=\",x*y)\n",
        "print(\"Division=\",x/y)\n",
        "print(\"power=\",x**y)\n",
        "print(\"Modulus=\",x%y)\n",
        "print(\"Floor division=\",x//y)\n"
      ],
      "metadata": {
        "colab": {
          "base_uri": "https://localhost:8080/"
        },
        "id": "-nlN_8bWNaZd",
        "outputId": "951b2f40-7c8f-4c35-caf1-6333473c4f73"
      },
      "execution_count": 10,
      "outputs": [
        {
          "output_type": "stream",
          "name": "stdout",
          "text": [
            "Addition= 15\n",
            "SUbtraction= 5\n",
            "Multiplication= 50\n",
            "Division= 2.0\n",
            "power= 100000\n",
            "Modulus= 0\n",
            "Floor division= 2\n"
          ]
        }
      ]
    },
    {
      "cell_type": "code",
      "source": [
        "#assigning multiple values to a variable \n",
        "x,y,z,a,b,c,=\"Orange\",\"Banana\",\"Cherry\",241,\"fhihc\",\"3235\"\n",
        "print(x)\n",
        "print(y)\n",
        "print(z)\n",
        "print(a)\n",
        "print(b)\n",
        "print(c)"
      ],
      "metadata": {
        "colab": {
          "base_uri": "https://localhost:8080/"
        },
        "id": "KLbpxKuTOrYc",
        "outputId": "13341cc7-4e15-41d6-8b10-238d199957cf"
      },
      "execution_count": 12,
      "outputs": [
        {
          "output_type": "stream",
          "name": "stdout",
          "text": [
            "Orange\n",
            "Banana\n",
            "Cherry\n",
            "241\n",
            "fhihc\n",
            "3235\n"
          ]
        }
      ]
    }
  ]
}